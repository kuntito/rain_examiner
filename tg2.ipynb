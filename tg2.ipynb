{
 "cells": [
  {
   "cell_type": "code",
   "execution_count": 50,
   "metadata": {},
   "outputs": [],
   "source": [
    "from pathlib import Path\n",
    "import pandas as pd"
   ]
  },
  {
   "cell_type": "code",
   "execution_count": 51,
   "metadata": {},
   "outputs": [],
   "source": [
    "questions_root = Path(r'C:\\Users\\Kun\\Documents\\VS code\\Python\\Flask\\examiner\\examiner\\exams_src')\n",
    "wb_path = questions_root/'Python basics.xlsx'\n",
    "dummy_password = 'password'"
   ]
  },
  {
   "cell_type": "code",
   "execution_count": 52,
   "metadata": {},
   "outputs": [],
   "source": [
    "df = pd.read_excel(wb_path)"
   ]
  },
  {
   "cell_type": "code",
   "execution_count": 56,
   "metadata": {},
   "outputs": [
    {
     "data": {
      "text/html": [
       "<div>\n",
       "<style scoped>\n",
       "    .dataframe tbody tr th:only-of-type {\n",
       "        vertical-align: middle;\n",
       "    }\n",
       "\n",
       "    .dataframe tbody tr th {\n",
       "        vertical-align: top;\n",
       "    }\n",
       "\n",
       "    .dataframe thead th {\n",
       "        text-align: right;\n",
       "    }\n",
       "</style>\n",
       "<table border=\"1\" class=\"dataframe\">\n",
       "  <thead>\n",
       "    <tr style=\"text-align: right;\">\n",
       "      <th></th>\n",
       "      <th>question_id</th>\n",
       "      <th>question_text</th>\n",
       "      <th>option1</th>\n",
       "      <th>option2</th>\n",
       "      <th>option3</th>\n",
       "      <th>option4</th>\n",
       "    </tr>\n",
       "  </thead>\n",
       "  <tbody>\n",
       "    <tr>\n",
       "      <th>0</th>\n",
       "      <td>1</td>\n",
       "      <td>Who is the best striker among the following?</td>\n",
       "      <td>Kun Aguero</td>\n",
       "      <td>Robin Van Persie</td>\n",
       "      <td>Robert Lewandowski</td>\n",
       "      <td>Karim Benzema</td>\n",
       "    </tr>\n",
       "    <tr>\n",
       "      <th>1</th>\n",
       "      <td>2</td>\n",
       "      <td>Which of the following are front end languages?</td>\n",
       "      <td>CSS</td>\n",
       "      <td>HTML</td>\n",
       "      <td>PHP</td>\n",
       "      <td>Java Script</td>\n",
       "    </tr>\n",
       "    <tr>\n",
       "      <th>2</th>\n",
       "      <td>3</td>\n",
       "      <td>a, b = (1, 2), in the expression what do a and...</td>\n",
       "      <td>1, 2</td>\n",
       "      <td>(1, 2), (1, 2)</td>\n",
       "      <td>Error</td>\n",
       "      <td>(1, 2), None</td>\n",
       "    </tr>\n",
       "  </tbody>\n",
       "</table>\n",
       "</div>"
      ],
      "text/plain": [
       "   question_id                                      question_text     option1  \\\n",
       "0            1       Who is the best striker among the following?  Kun Aguero   \n",
       "1            2    Which of the following are front end languages?         CSS   \n",
       "2            3  a, b = (1, 2), in the expression what do a and...        1, 2   \n",
       "\n",
       "            option2             option3        option4  \n",
       "0  Robin Van Persie  Robert Lewandowski  Karim Benzema  \n",
       "1              HTML                 PHP    Java Script  \n",
       "2    (1, 2), (1, 2)               Error   (1, 2), None  "
      ]
     },
     "execution_count": 56,
     "metadata": {},
     "output_type": "execute_result"
    }
   ],
   "source": [
    "df"
   ]
  },
  {
   "cell_type": "code",
   "execution_count": 66,
   "metadata": {},
   "outputs": [
    {
     "data": {
      "text/plain": [
       "[{'question_id': 1,\n",
       "  'question_text': 'Who is the best striker among the following?',\n",
       "  'options': [{'option1': 'Kun Aguero'},\n",
       "   {'option2': 'Robin Van Persie'},\n",
       "   {'option3': 'Robert Lewandowski'},\n",
       "   {'option4': 'Karim Benzema'}]},\n",
       " {'question_id': 2,\n",
       "  'question_text': 'Which of the following are front end languages?',\n",
       "  'options': [{'option1': 'CSS'},\n",
       "   {'option2': 'HTML'},\n",
       "   {'option3': 'PHP'},\n",
       "   {'option4': 'Java Script'}]},\n",
       " {'question_id': 3,\n",
       "  'question_text': 'a, b = (1, 2), in the expression what do a and b represent respectively?',\n",
       "  'options': [{'option1': '1, 2'},\n",
       "   {'option2': '(1, 2), (1, 2)'},\n",
       "   {'option3': 'Error'},\n",
       "   {'option4': '(1, 2), None'}]}]"
      ]
     },
     "execution_count": 66,
     "metadata": {},
     "output_type": "execute_result"
    }
   ],
   "source": [
    "# for _, row in df.iterrows():\n",
    "#     a = {k:v for k, v in row.items()}\n",
    "\n",
    "questions = []\n",
    "for _ , row in df.iterrows():\n",
    "    question_dict = {}\n",
    "    options = []\n",
    "    for k, v in row.items():\n",
    "        if 'option' in k.lower():\n",
    "            options.append({k:v})\n",
    "        else:\n",
    "            question_dict[k] = v\n",
    "    else:\n",
    "        question_dict['options'] = options\n",
    "\n",
    "    questions.append(question_dict)\n",
    "    \n",
    "questions\n"
   ]
  },
  {
   "cell_type": "code",
   "execution_count": 40,
   "metadata": {},
   "outputs": [
    {
     "name": "stdout",
     "output_type": "stream",
     "text": [
      "question_text Who is the best striker among the following?\n",
      "option1 Kun Aguero\n",
      "option2 Robin Van Persie\n",
      "option3 Robert Lewandowski\n",
      "option4 Karim Benzema\n",
      "question_text Which of the following are front end languages?\n",
      "option1 CSS\n",
      "option2 HTML\n",
      "option3 PHP\n",
      "option4 Java Script\n",
      "question_text a, b = (1, 2), in the expression what do a and b represent respectively?\n",
      "option1 1, 2\n",
      "option2 (1, 2), (1, 2)\n",
      "option3 Error\n",
      "option4 (1, 2), None\n"
     ]
    },
    {
     "name": "stderr",
     "output_type": "stream",
     "text": [
      "C:\\Users\\Kun\\AppData\\Local\\Temp\\ipykernel_5764\\266451307.py:3: FutureWarning: iteritems is deprecated and will be removed in a future version. Use .items instead.\n",
      "  for k, v in value_series.iteritems():\n"
     ]
    }
   ],
   "source": [
    "\n",
    "    index, value_series = row\n",
    "    for k, v in value_series.iteritems():\n",
    "        print(k, v)\n",
    "    # for v_index, v_values in value_series.index, value_series.values:\n",
    "    #     print(v_index)\n"
   ]
  },
  {
   "cell_type": "code",
   "execution_count": 7,
   "metadata": {},
   "outputs": [
    {
     "data": {
      "text/plain": [
       "<re.Match object; span=(0, 8), match='option40'>"
      ]
     },
     "execution_count": 7,
     "metadata": {},
     "output_type": "execute_result"
    }
   ],
   "source": [
    "import re\n",
    "\n",
    "a = 'option40'\n",
    "pattern = r'option\\d+'\n",
    "re.fullmatch(pattern, a)"
   ]
  },
  {
   "cell_type": "code",
   "execution_count": 14,
   "metadata": {},
   "outputs": [
    {
     "data": {
      "text/plain": [
       "0    \n",
       "1    \n",
       "2    \n",
       "Name: selected_option_id, dtype: object"
      ]
     },
     "execution_count": 14,
     "metadata": {},
     "output_type": "execute_result"
    }
   ],
   "source": [
    "import pandas as pd\n",
    "df = pd.read_excel(r'reason.xlsx', keep_default_na=False)\n",
    "df['selected_option_id']"
   ]
  }
 ],
 "metadata": {
  "kernelspec": {
   "display_name": "Python 3.10.2 64-bit",
   "language": "python",
   "name": "python3"
  },
  "language_info": {
   "codemirror_mode": {
    "name": "ipython",
    "version": 3
   },
   "file_extension": ".py",
   "mimetype": "text/x-python",
   "name": "python",
   "nbconvert_exporter": "python",
   "pygments_lexer": "ipython3",
   "version": "3.10.2"
  },
  "orig_nbformat": 4,
  "vscode": {
   "interpreter": {
    "hash": "3ed737737e184af00e7304acc342ae5d0aff1b4efd76e1d3c632aa263f6722ee"
   }
  }
 },
 "nbformat": 4,
 "nbformat_minor": 2
}

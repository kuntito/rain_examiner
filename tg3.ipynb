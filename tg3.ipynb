{
 "cells": [
  {
   "cell_type": "code",
   "execution_count": 1,
   "metadata": {},
   "outputs": [],
   "source": [
    "import pandas as pd\n",
    "from pathlib import Path"
   ]
  },
  {
   "cell_type": "code",
   "execution_count": 16,
   "metadata": {},
   "outputs": [
    {
     "data": {
      "text/html": [
       "<div>\n",
       "<style scoped>\n",
       "    .dataframe tbody tr th:only-of-type {\n",
       "        vertical-align: middle;\n",
       "    }\n",
       "\n",
       "    .dataframe tbody tr th {\n",
       "        vertical-align: top;\n",
       "    }\n",
       "\n",
       "    .dataframe thead th {\n",
       "        text-align: right;\n",
       "    }\n",
       "</style>\n",
       "<table border=\"1\" class=\"dataframe\">\n",
       "  <thead>\n",
       "    <tr style=\"text-align: right;\">\n",
       "      <th></th>\n",
       "      <th>option1</th>\n",
       "      <th>option4</th>\n",
       "      <th>correct_option_text</th>\n",
       "      <th>option2</th>\n",
       "      <th>id</th>\n",
       "      <th>correct_option_id</th>\n",
       "      <th>question_text</th>\n",
       "      <th>option3</th>\n",
       "    </tr>\n",
       "  </thead>\n",
       "  <tbody>\n",
       "    <tr>\n",
       "      <th>0</th>\n",
       "      <td>string</td>\n",
       "      <td>int</td>\n",
       "      <td>int</td>\n",
       "      <td>list</td>\n",
       "      <td>1</td>\n",
       "      <td>option4</td>\n",
       "      <td>which of the following is not iterable?</td>\n",
       "      <td>dictionary</td>\n",
       "    </tr>\n",
       "    <tr>\n",
       "      <th>1</th>\n",
       "      <td>1, 2</td>\n",
       "      <td>(1, 2), None</td>\n",
       "      <td>1, 2</td>\n",
       "      <td>(1, 2), (1, 2)</td>\n",
       "      <td>2</td>\n",
       "      <td>option1</td>\n",
       "      <td>a, b = (1, 2)&lt;br&gt;in the expression what do a a...</td>\n",
       "      <td>Error</td>\n",
       "    </tr>\n",
       "    <tr>\n",
       "      <th>2</th>\n",
       "      <td>.python</td>\n",
       "      <td>.p</td>\n",
       "      <td>.py</td>\n",
       "      <td>.pl</td>\n",
       "      <td>3</td>\n",
       "      <td>option3</td>\n",
       "      <td>Which of the following is the correct extensio...</td>\n",
       "      <td>.py</td>\n",
       "    </tr>\n",
       "    <tr>\n",
       "      <th>3</th>\n",
       "      <td>indentation</td>\n",
       "      <td>all the above</td>\n",
       "      <td>indentation</td>\n",
       "      <td>key</td>\n",
       "      <td>4</td>\n",
       "      <td>option1</td>\n",
       "      <td>Which of the following is used to define a blo...</td>\n",
       "      <td>brackets</td>\n",
       "    </tr>\n",
       "    <tr>\n",
       "      <th>4</th>\n",
       "      <td>function</td>\n",
       "      <td>define</td>\n",
       "      <td>def</td>\n",
       "      <td>def</td>\n",
       "      <td>5</td>\n",
       "      <td>option2</td>\n",
       "      <td>What's the keyword for python functions?</td>\n",
       "      <td>fun</td>\n",
       "    </tr>\n",
       "    <tr>\n",
       "      <th>5</th>\n",
       "      <td>//</td>\n",
       "      <td>/*</td>\n",
       "      <td>#</td>\n",
       "      <td>#</td>\n",
       "      <td>6</td>\n",
       "      <td>option2</td>\n",
       "      <td>Which of the following is used for commenting ...</td>\n",
       "      <td>!</td>\n",
       "    </tr>\n",
       "    <tr>\n",
       "      <th>6</th>\n",
       "      <td>&amp;apos;&amp;apos;</td>\n",
       "      <td>&amp;quot;&amp;quot;hello world&amp;quot;&amp;quot;&amp;quot;</td>\n",
       "      <td>&amp;quot;&amp;quot;hello world&amp;quot;&amp;quot;&amp;quot;</td>\n",
       "      <td>&amp;quot;hello world&amp;quot;</td>\n",
       "      <td>7</td>\n",
       "      <td>option4</td>\n",
       "      <td>Which of the following is an invalid string in...</td>\n",
       "      <td>&amp;apos;&amp;apos;&amp;apos;hello world&amp;apos;&amp;apos;&amp;apos;</td>\n",
       "    </tr>\n",
       "    <tr>\n",
       "      <th>7</th>\n",
       "      <td>var1</td>\n",
       "      <td>var</td>\n",
       "      <td>1var</td>\n",
       "      <td>1var</td>\n",
       "      <td>8</td>\n",
       "      <td>option2</td>\n",
       "      <td>Which of the following is an invalid variable ...</td>\n",
       "      <td>var_1</td>\n",
       "    </tr>\n",
       "    <tr>\n",
       "      <th>8</th>\n",
       "      <td>factorial()</td>\n",
       "      <td>sqrt()</td>\n",
       "      <td>print()</td>\n",
       "      <td>print()</td>\n",
       "      <td>9</td>\n",
       "      <td>option2</td>\n",
       "      <td>Which of the following is a built-in function ...</td>\n",
       "      <td>seed()</td>\n",
       "    </tr>\n",
       "    <tr>\n",
       "      <th>9</th>\n",
       "      <td>-4</td>\n",
       "      <td>False</td>\n",
       "      <td>False</td>\n",
       "      <td>-3</td>\n",
       "      <td>10</td>\n",
       "      <td>option4</td>\n",
       "      <td>what's the output of the following expression&lt;...</td>\n",
       "      <td>2</td>\n",
       "    </tr>\n",
       "  </tbody>\n",
       "</table>\n",
       "</div>"
      ],
      "text/plain": [
       "        option1                                    option4  \\\n",
       "0        string                                        int   \n",
       "1          1, 2                               (1, 2), None   \n",
       "2       .python                                         .p   \n",
       "3   indentation                              all the above   \n",
       "4      function                                     define   \n",
       "5            //                                         /*   \n",
       "6  &apos;&apos;  &quot;&quot;hello world&quot;&quot;&quot;   \n",
       "7          var1                                        var   \n",
       "8   factorial()                                     sqrt()   \n",
       "9            -4                                      False   \n",
       "\n",
       "                         correct_option_text                  option2  id  \\\n",
       "0                                        int                     list   1   \n",
       "1                                       1, 2           (1, 2), (1, 2)   2   \n",
       "2                                        .py                      .pl   3   \n",
       "3                                indentation                      key   4   \n",
       "4                                        def                      def   5   \n",
       "5                                          #                        #   6   \n",
       "6  &quot;&quot;hello world&quot;&quot;&quot;  &quot;hello world&quot;   7   \n",
       "7                                       1var                     1var   8   \n",
       "8                                    print()                  print()   9   \n",
       "9                                      False                       -3  10   \n",
       "\n",
       "  correct_option_id                                      question_text  \\\n",
       "0           option4            which of the following is not iterable?   \n",
       "1           option1  a, b = (1, 2)<br>in the expression what do a a...   \n",
       "2           option3  Which of the following is the correct extensio...   \n",
       "3           option1  Which of the following is used to define a blo...   \n",
       "4           option2           What's the keyword for python functions?   \n",
       "5           option2  Which of the following is used for commenting ...   \n",
       "6           option4  Which of the following is an invalid string in...   \n",
       "7           option2  Which of the following is an invalid variable ...   \n",
       "8           option2  Which of the following is a built-in function ...   \n",
       "9           option4  what's the output of the following expression<...   \n",
       "\n",
       "                                           option3  \n",
       "0                                       dictionary  \n",
       "1                                            Error  \n",
       "2                                              .py  \n",
       "3                                         brackets  \n",
       "4                                              fun  \n",
       "5                                                !  \n",
       "6  &apos;&apos;&apos;hello world&apos;&apos;&apos;  \n",
       "7                                            var_1  \n",
       "8                                           seed()  \n",
       "9                                                2  "
      ]
     },
     "execution_count": 16,
     "metadata": {},
     "output_type": "execute_result"
    }
   ],
   "source": [
    "questions_wb = Path(r'examiner\\src_files\\exam_questions\\exams\\Python Basics.xlsx')\n",
    "questions_df = pd.read_excel(questions_wb)\n",
    "questions_df.drop_duplicates('id').sample(frac=1).sample(frac=1, axis=1).sort_values('id')"
   ]
  },
  {
   "cell_type": "code",
   "execution_count": 4,
   "metadata": {},
   "outputs": [
    {
     "data": {
      "text/plain": [
       "True"
      ]
     },
     "execution_count": 4,
     "metadata": {},
     "output_type": "execute_result"
    }
   ],
   "source": [
    "questions_df['id'].is_unique"
   ]
  },
  {
   "cell_type": "code",
   "execution_count": 5,
   "metadata": {},
   "outputs": [
    {
     "name": "stdout",
     "output_type": "stream",
     "text": [
      "tioluwanimi\n",
      "abdulmalik\n",
      "imran\n",
      "david\n",
      "emmanuel\n",
      "eniola\n"
     ]
    }
   ],
   "source": [
    "for index, values in questions_df.iterrows():\n",
    "    print(values['first_name'])"
   ]
  },
  {
   "cell_type": "code",
   "execution_count": 6,
   "metadata": {},
   "outputs": [
    {
     "data": {
      "text/plain": [
       "'marked-exams.xlsx'"
      ]
     },
     "execution_count": 6,
     "metadata": {},
     "output_type": "execute_result"
    }
   ],
   "source": [
    "from pathlib import Path\n",
    "\n",
    "x = Path(r'examiner\\src_files\\exam_questions\\exams.xlsx').name\n",
    "f\"marked-{x}\""
   ]
  },
  {
   "cell_type": "code",
   "execution_count": null,
   "metadata": {},
   "outputs": [],
   "source": []
  },
  {
   "cell_type": "code",
   "execution_count": null,
   "metadata": {},
   "outputs": [],
   "source": []
  },
  {
   "cell_type": "code",
   "execution_count": 8,
   "metadata": {},
   "outputs": [
    {
     "data": {
      "text/html": [
       "<div>\n",
       "<style scoped>\n",
       "    .dataframe tbody tr th:only-of-type {\n",
       "        vertical-align: middle;\n",
       "    }\n",
       "\n",
       "    .dataframe tbody tr th {\n",
       "        vertical-align: top;\n",
       "    }\n",
       "\n",
       "    .dataframe thead th {\n",
       "        text-align: right;\n",
       "    }\n",
       "</style>\n",
       "<table border=\"1\" class=\"dataframe\">\n",
       "  <thead>\n",
       "    <tr style=\"text-align: right;\">\n",
       "      <th></th>\n",
       "      <th>id</th>\n",
       "      <th>first_name</th>\n",
       "      <th>last_name</th>\n",
       "      <th>class_type</th>\n",
       "      <th>cohort</th>\n",
       "      <th>score</th>\n",
       "      <th>max_score</th>\n",
       "      <th>percentage</th>\n",
       "    </tr>\n",
       "  </thead>\n",
       "  <tbody>\n",
       "    <tr>\n",
       "      <th>jj</th>\n",
       "      <td>owolabi@rain.com</td>\n",
       "      <td>tito</td>\n",
       "      <td>kun</td>\n",
       "      <td>aiml</td>\n",
       "      <td>9</td>\n",
       "      <td>4</td>\n",
       "      <td>10</td>\n",
       "      <td>40%</td>\n",
       "    </tr>\n",
       "  </tbody>\n",
       "</table>\n",
       "</div>"
      ],
      "text/plain": [
       "                  id first_name last_name class_type cohort  score  max_score  \\\n",
       "jj  owolabi@rain.com       tito       kun       aiml      9      4         10   \n",
       "\n",
       "   percentage  \n",
       "jj        40%  "
      ]
     },
     "execution_count": 8,
     "metadata": {},
     "output_type": "execute_result"
    }
   ],
   "source": [
    "marked_script = Path(r'C:\\Users\\Kun\\Documents\\VS code\\Python\\Flask\\examiner\\examiner\\src_files\\exam_questions\\student_scripts\\1_Python basics\\abdulmalik.molumo@rain.com_1_Python basics\\Marked-abdulmalik.molumo@rain.com_1_Python basics.xlsx')\n",
    "marked_df = pd.read_excel(marked_script, keep_default_na=False)\n",
    "score = marked_df['score']\n",
    "percentage = f'{score.sum()*100/score.count()}%'\n",
    "percentage\n",
    "\n",
    "result = pd.DataFrame(\n",
    "    columns=['id', 'first_name', 'last_name', 'class_type', 'cohort', 'score', 'max_score', 'percentage']\n",
    ")\n",
    "\n",
    "result.loc['jj'] = ['owolabi@rain.com', 'tito', 'kun', 'aiml', '9', 4, 10, '40%']\n",
    "result\n",
    "\n"
   ]
  },
  {
   "cell_type": "code",
   "execution_count": 14,
   "metadata": {},
   "outputs": [
    {
     "data": {
      "text/plain": [
       "'a'"
      ]
     },
     "execution_count": 14,
     "metadata": {},
     "output_type": "execute_result"
    }
   ],
   "source": [
    "'-'.join(['a'])"
   ]
  }
 ],
 "metadata": {
  "kernelspec": {
   "display_name": "Python 3.11.1 64-bit",
   "language": "python",
   "name": "python3"
  },
  "language_info": {
   "codemirror_mode": {
    "name": "ipython",
    "version": 3
   },
   "file_extension": ".py",
   "mimetype": "text/x-python",
   "name": "python",
   "nbconvert_exporter": "python",
   "pygments_lexer": "ipython3",
   "version": "3.11.1"
  },
  "orig_nbformat": 4,
  "vscode": {
   "interpreter": {
    "hash": "0176ad8f41415c8ccf159be9856e14871bec4676259f35eeb7911884f7e15a6b"
   }
  }
 },
 "nbformat": 4,
 "nbformat_minor": 2
}
